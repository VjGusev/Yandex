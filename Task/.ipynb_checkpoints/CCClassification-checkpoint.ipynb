{
 "cells": [
  {
   "cell_type": "markdown",
   "metadata": {},
   "source": [
    "### Crocks an clocks classification task"
   ]
  },
  {
   "cell_type": "markdown",
   "metadata": {},
   "source": [
    "#### Выполнил: Вячеслав Гусев(Gusev Vyacheslav)"
   ]
  },
  {
   "cell_type": "markdown",
   "metadata": {},
   "source": [
    "Идея:  сделаем признаковое описание для каждой картинки с помощью нейронной сети, построенной на основе структуры VGG19. Будем использовать веса VGG19, уже обученной на ImageNET. Дальше мы будем пропускать картинку через свёрточную сеть пока не получим достатчно маленькое представление, а потом будем использовать это представление в качестве признаков для обучения нашего алгоритма."
   ]
  },
  {
   "cell_type": "markdown",
   "metadata": {},
   "source": [
    "Результат и вывод будет в конце."
   ]
  },
  {
   "cell_type": "markdown",
   "metadata": {},
   "source": [
    "Задачи:\n",
    "<font size=\"3\" color=\"black\" > <input type=\"checkbox\" name=\"tasks\" value= \"\" /> <font size=\"2\"> Вычесть среднее из картинки </font> <br/> </font>\n",
    "<font size=\"3\" color=\"black\" > <input type=\"checkbox\" name=\"tasks\" value= \"\" /> <font size=\"2\"> RGB -> BGR </font> <br/> </font>"
   ]
  },
  {
   "cell_type": "markdown",
   "metadata": {},
   "source": [
    "#### 1. Приведем имена картинок к удобному формату."
   ]
  },
  {
   "cell_type": "markdown",
   "metadata": {},
   "source": [
    "Напишем скрипт, которые изменит имена картинок\n",
    "на более удобные для дальнейшей работы.\n",
    "Скрипт будет приложен вместе с основным решением."
   ]
  },
  {
   "cell_type": "code",
   "execution_count": 1,
   "metadata": {},
   "outputs": [
    {
     "name": "stdout",
     "output_type": "stream",
     "text": [
      "CCClassification.ipynb VGG19_cpu.py           \u001b[34mcrocodiles\u001b[m\u001b[m\r\n",
      "Tests.ipynb            \u001b[34mclocks\u001b[m\u001b[m                 vgg19.pkl\r\n",
      "VGG19.pyc              clocks&crocs.zip\r\n"
     ]
    }
   ],
   "source": [
    "!ls"
   ]
  },
  {
   "cell_type": "code",
   "execution_count": 2,
   "metadata": {},
   "outputs": [
    {
     "name": "stdout",
     "output_type": "stream",
     "text": [
      "     501\n",
      "     501\n"
     ]
    }
   ],
   "source": [
    "#посмотрим сколько у нас объектов\n",
    "!ls crocodiles | wc -l\n",
    "!ls clocks | wc -l"
   ]
  },
  {
   "cell_type": "code",
   "execution_count": 8,
   "metadata": {
    "collapsed": true
   },
   "outputs": [],
   "source": [
    "#запускаем скрипт\n",
    "!fish clocks/change_names.fish"
   ]
  },
  {
   "cell_type": "code",
   "execution_count": 4,
   "metadata": {
    "collapsed": true
   },
   "outputs": [],
   "source": [
    "!fish crocodiles/change_names.fish"
   ]
  },
  {
   "cell_type": "code",
   "execution_count": 5,
   "metadata": {},
   "outputs": [
    {
     "name": "stdout",
     "output_type": "stream",
     "text": [
      "change_names.fish\r\n",
      "croco0.png\r\n",
      "croco1.png\r\n",
      "croco10.png\r\n"
     ]
    }
   ],
   "source": [
    "#посмотрим на вид наших файлов\n",
    "#например имена крокодильчиков\n",
    "!ls crocodiles/ | head -n 4"
   ]
  },
  {
   "cell_type": "markdown",
   "metadata": {},
   "source": [
    "####  2. Посмотрим на картинки и сделаем предобработку."
   ]
  },
  {
   "cell_type": "code",
   "execution_count": 6,
   "metadata": {},
   "outputs": [
    {
     "name": "stdout",
     "output_type": "stream",
     "text": [
      "Populating the interactive namespace from numpy and matplotlib\n"
     ]
    }
   ],
   "source": [
    "import os\n",
    "import re\n",
    "import numpy as np\n",
    "import skimage.transform\n",
    "from scipy import ndimage\n",
    "%pylab inline"
   ]
  },
  {
   "cell_type": "code",
   "execution_count": 9,
   "metadata": {
    "collapsed": true
   },
   "outputs": [],
   "source": [
    "#среднее по всем картинкам из ImageNET.\n",
    "#взято из статьи о VGG19.\n",
    "MEAN_VGG = np.array([103.939, 116.779, 123.68]).reshape((1,1,3))"
   ]
  },
  {
   "cell_type": "code",
   "execution_count": 8,
   "metadata": {
    "collapsed": true
   },
   "outputs": [],
   "source": [
    "#выкачаем имена файлов\n",
    "clock_files = os.listdir(\"clocks\")\n",
    "croco_files = os.listdir(\"crocodiles\")"
   ]
  },
  {
   "cell_type": "code",
   "execution_count": 9,
   "metadata": {
    "collapsed": true
   },
   "outputs": [],
   "source": [
    "#удалим скрипт\n",
    "del clock_files[0]\n",
    "del croco_files[0]"
   ]
  },
  {
   "cell_type": "code",
   "execution_count": 10,
   "metadata": {},
   "outputs": [
    {
     "name": "stdout",
     "output_type": "stream",
     "text": [
      "['clock0.png', 'clock1.png', 'clock2.png', 'clock3.png', 'clock4.png', 'clock5.png', 'clock6.png', 'clock7.png', 'clock8.png', 'clock9.png']\n",
      "500 500\n"
     ]
    }
   ],
   "source": [
    "#отсортируем для удобства имена файлов\n",
    "sorter = lambda fname: int(re.findall(r'\\d+', fname)[0])\n",
    "clock_files.sort(key = sorter)\n",
    "croco_files.sort(key = sorter)\n",
    "print clock_files[:10]\n",
    "print len(clock_files), len(croco_files)"
   ]
  },
  {
   "cell_type": "code",
   "execution_count": 11,
   "metadata": {
    "scrolled": true
   },
   "outputs": [
    {
     "data": {
      "text/plain": [
       "<matplotlib.image.AxesImage at 0x10ee05fd0>"
      ]
     },
     "execution_count": 11,
     "metadata": {},
     "output_type": "execute_result"
    },
    {
     "data": {
      "image/png": "[encoded data removed]",
      "text/plain": [
       "<matplotlib.figure.Figure at 0x10ed48f10>"
      ]
     },
     "metadata": {},
     "output_type": "display_data"
    }
   ],
   "source": [
    "#потестируем преобразования\n",
    "im_tt = plt.imread(\"clocks/\" + clock_files[0])\n",
    "im_tt = np.roll(im_tt, 1, axis=-1)\n",
    "im_tt = im_tt[::-1, :, :]\n",
    "im_tt = im_tt - MEAN_VGG\n",
    "plt.imshow(im_tt)"
   ]
  },
  {
   "cell_type": "code",
   "execution_count": 12,
   "metadata": {},
   "outputs": [
    {
     "data": {
      "image/png": "[encoded data removed]",
      "text/plain": [
       "<matplotlib.figure.Figure at 0x10ed5b250>"
      ]
     },
     "metadata": {},
     "output_type": "display_data"
    }
   ],
   "source": [
    "#покажем пару крокодильчиков\n",
    "figsize(16,8)\n",
    "for i in range(4):\n",
    "    plt.subplot(1,4,i+1)\n",
    "    im = plt.imread(\"crocodiles/\" + croco_files[i])\n",
    "    plt.title('croco %dx%d' % (im.shape[0], im.shape[1]))\n",
    "    plt.imshow(im)"
   ]
  },
  {
   "cell_type": "markdown",
   "metadata": {},
   "source": [
    "Будем использовать предобученную VGG19, поэтому нужно преобразовать фотографии к нужному формату.\n",
    "Идеально привести к такому формату, на котормо обучалась VGG19."
   ]
  },
  {
   "cell_type": "code",
   "execution_count": 13,
   "metadata": {
    "collapsed": true
   },
   "outputs": [],
   "source": [
    "#функция, что приводить картинки к нужному формату\n",
    "def process_image(image):\n",
    "    #какие результирующие размеры хотим подавать на вход VGG19\n",
    "    #потому что она обучалась на таких картинках\n",
    "    res_wh = 224\n",
    "    image = skimage.transform.resize(image, (res_wh, res_wh), mode = 'reflect')\n",
    "    image = image[::-1, :, :]\n",
    "    image = image - MEAN_VGG\n",
    "    return image"
   ]
  },
  {
   "cell_type": "markdown",
   "metadata": {},
   "source": [
    "#### 3. Настраиваем предобученную сеть VGG19."
   ]
  },
  {
   "cell_type": "markdown",
   "metadata": {},
   "source": [
    "Скачаем веса для VGG19"
   ]
  },
  {
   "cell_type": "code",
   "execution_count": 15,
   "metadata": {
    "collapsed": true
   },
   "outputs": [],
   "source": [
    "!curl -O https://s3.amazonaws.com/lasagne/recipes/pretrained/imagenet/vgg19.pkl"
   ]
  },
  {
   "cell_type": "markdown",
   "metadata": {},
   "source": [
    "Архитектура VGG19 реализована в файле VGG19_cpu.py.\n",
    "В этом же файле находится функция, которая наливает веса в сеть."
   ]
  },
  {
   "cell_type": "code",
   "execution_count": 16,
   "metadata": {
    "collapsed": true
   },
   "outputs": [],
   "source": [
    "import tensorflow as tf\n",
    "import VGG19_cpu\n",
    "import pickle"
   ]
  },
  {
   "cell_type": "code",
   "execution_count": 17,
   "metadata": {},
   "outputs": [
    {
     "name": "stdout",
     "output_type": "stream",
     "text": [
      "CCClassification.ipynb VGG19_cpu.py           clocks&crocs.zip\r\n",
      "Tests.ipynb            VGG19_cpu.pyc          \u001b[34mcrocodiles\u001b[m\u001b[m\r\n",
      "VGG19.pyc              \u001b[34mclocks\u001b[m\u001b[m                 vgg19.pkl\r\n"
     ]
    }
   ],
   "source": [
    "!ls"
   ]
  },
  {
   "cell_type": "code",
   "execution_count": 18,
   "metadata": {
    "collapsed": true
   },
   "outputs": [],
   "source": [
    "#загружаем веса пикельные\n",
    "with open('vgg19.pkl', 'r') as thefile:\n",
    "    vgg_weights = pickle.loads(thefile.read())"
   ]
  },
  {
   "cell_type": "code",
   "execution_count": 10,
   "metadata": {
    "collapsed": true
   },
   "outputs": [],
   "source": [
    "#Ради интереса попробуем построить сеть и посмотреть веса её.\n",
    "#tf.reset_default_graph()\n",
    "#with tf.device('/gpu:0') as device:\n",
    "    #задаем картинки\n",
    "#    images = tf.placeholder(dtype=tf.float32, shape = [None, 3, 224, 224])\n",
    "    #это предсказания для картинок? весов нету\n",
    "#    preds = VGG19.inference(images)\n",
    "    #задаем веса сети\n",
    "#    assign_ops = VGG19.assign_weights(preds.graph.get_collection('trainable_variables'), vgg_weights['param values'])\n",
    "#    init = tf.global_variables_initializer()'''"
   ]
  },
  {
   "cell_type": "code",
   "execution_count": 11,
   "metadata": {
    "collapsed": true
   },
   "outputs": [],
   "source": [
    "#Ради интереса посмотрим количество параметров в нашей сети\n",
    "#print 'Number of parametrs:', len(preds.graph.get_collection(\"trainable_variables\"))\n",
    "#i = 0\n",
    "#for v in preds.graph.get_collection('trainable_variables'):\n",
    "#    print i, v.name, map(lambda i: i.value, v.get_shape())\n",
    "#    i += 1"
   ]
  },
  {
   "cell_type": "markdown",
   "metadata": {},
   "source": [
    "Потестировали VGG19, теперь займемся нашей задачей. \n",
    "\n",
    "А именно будем прогонять картинки через сеть и снимать признаковое описание картинок\n",
    "после первого полносвязного слоя."
   ]
  },
  {
   "cell_type": "code",
   "execution_count": 12,
   "metadata": {
    "collapsed": true
   },
   "outputs": [],
   "source": [
    "#данные в сеть подаются батчами\n",
    "#создаем генератор, чтобы оптимально было хранить данные\n",
    "def get_batches(X, batch_size):\n",
    "    n = batch_size\n",
    "    for i in xrange(0, X.shape[0], n):\n",
    "        yield X[i: i+n]"
   ]
  },
  {
   "cell_type": "code",
   "execution_count": 22,
   "metadata": {
    "collapsed": true
   },
   "outputs": [],
   "source": [
    "#X_tt = np.random.random((10,3))\n",
    "#batches = get_batches(X_tt,4)"
   ]
  },
  {
   "cell_type": "code",
   "execution_count": 23,
   "metadata": {
    "collapsed": true
   },
   "outputs": [],
   "source": [
    "#инциализируем картинками, которые еще и обрабатываются\n",
    "clocks = np.zeros([500, 224, 224, 3])\n",
    "crocs = np.zeros([500, 224, 224, 3])\n",
    "i = 0\n",
    "for i in range(500):\n",
    "    clocks[i,:,:,:] = process_image(plt.imread(\"clocks/\" + clock_files[i]))\n",
    "    crocs[i,:,:,:] = process_image(plt.imread(\"crocodiles/\" + croco_files[i]))"
   ]
  },
  {
   "cell_type": "code",
   "execution_count": 24,
   "metadata": {
    "collapsed": true
   },
   "outputs": [],
   "source": [
    "#NHWC - CPU\n",
    "#NCHW - GPU\n",
    "def from_nhwc_to_nchw(images):\n",
    "    return tf.transpose(images, [0, 3, 1, 2])\n",
    "\n",
    "def from_nchw_to_hhwc(images):\n",
    "    return tf.transpose(images, [0, 2, 3, 1])"
   ]
  },
  {
   "cell_type": "markdown",
   "metadata": {},
   "source": [
    "Строим вычислительный граф, который вычисляет признаки для каждого изображения. В качестве признаков берём представление после первого полносвязного слоя."
   ]
  },
  {
   "cell_type": "code",
   "execution_count": 25,
   "metadata": {},
   "outputs": [
    {
     "name": "stdout",
     "output_type": "stream",
     "text": [
      "(?, 224, 224, 3)\n",
      "(?, 224, 224, 64)\n",
      "(?, 112, 112, 64)\n",
      "(?, 112, 112, 128)\n",
      "(?, 56, 56, 128)\n",
      "(?, 56, 56, 256)\n",
      "(?, 56, 56, 256)\n",
      "(?, 56, 56, 256)\n",
      "(?, 28, 28, 256)\n",
      "(?, 28, 28, 512)\n",
      "(?, 28, 28, 512)\n",
      "(?, 28, 28, 512)\n",
      "(?, 14, 14, 512)\n",
      "(?, 14, 14, 512)\n",
      "(?, 14, 14, 512)\n",
      "(?, 14, 14, 512)\n",
      "(64, 3, 3, 3)\n",
      "(3, 3, 3, 64)\n",
      "(64, 64, 3, 3)\n",
      "(3, 3, 64, 64)\n",
      "(128, 64, 3, 3)\n",
      "(3, 3, 64, 128)\n",
      "(128, 128, 3, 3)\n",
      "(3, 3, 128, 128)\n",
      "(256, 128, 3, 3)\n",
      "(3, 3, 128, 256)\n",
      "(256, 256, 3, 3)\n",
      "(3, 3, 256, 256)\n",
      "(256, 256, 3, 3)\n",
      "(3, 3, 256, 256)\n",
      "(256, 256, 3, 3)\n",
      "(3, 3, 256, 256)\n",
      "(512, 256, 3, 3)\n",
      "(3, 3, 256, 512)\n",
      "(512, 512, 3, 3)\n",
      "(3, 3, 512, 512)\n",
      "(512, 512, 3, 3)\n",
      "(3, 3, 512, 512)\n",
      "(512, 512, 3, 3)\n",
      "(3, 3, 512, 512)\n",
      "(512, 512, 3, 3)\n",
      "(3, 3, 512, 512)\n",
      "(512, 512, 3, 3)\n",
      "(3, 3, 512, 512)\n",
      "(512, 512, 3, 3)\n",
      "(3, 3, 512, 512)\n",
      "(512, 512, 3, 3)\n",
      "(3, 3, 512, 512)\n"
     ]
    }
   ],
   "source": [
    "tf.reset_default_graph()\n",
    "#with tf.device('/gpu:0') as device:\n",
    "#батчами картинок будем инициализировать\n",
    "images = tf.placeholder(dtype=tf.float32, shape=[None, 224, 224, 3])\n",
    "#получаем фичи после первого связаного слоя\n",
    "features = VGG19_cpu.dense6(images)\n",
    "#инициализируем веса \n",
    "assign_op = VGG19_cpu.assign_weights(features.graph.get_collection('trainable_variables'), vgg_weights['param values'])\n",
    "init = tf.global_variables_initializer()"
   ]
  },
  {
   "cell_type": "markdown",
   "metadata": {},
   "source": [
    "Прогоняем граф и вычисляем признаки"
   ]
  },
  {
   "cell_type": "code",
   "execution_count": 27,
   "metadata": {
    "collapsed": true
   },
   "outputs": [],
   "source": [
    "clocks_features = []\n",
    "crocs_features = []\n",
    "\n",
    "with tf.Session() as sess:\n",
    "    #переменные\n",
    "    sess.run(init)\n",
    "    #веса\n",
    "    sess.run(assign_op)\n",
    "    #прогоняем через сеть\n",
    "    for im_batch in get_batches(clocks, 32):\n",
    "        clocks_features.append(sess.run(features, {images:im_batch}))\n",
    "    for im_batch in get_batches(crocs, 32):\n",
    "        crocs_features.append(sess.run(features, {images:im_batch}))"
   ]
  },
  {
   "cell_type": "code",
   "execution_count": 28,
   "metadata": {
    "collapsed": true
   },
   "outputs": [],
   "source": [
    "clocks_features = np.concatenate(clocks_features)\n",
    "crocs_features = np.concatenate(crocs_features)"
   ]
  },
  {
   "cell_type": "markdown",
   "metadata": {},
   "source": [
    "#### 4. Запускаем RandomForest на полученных признаках"
   ]
  },
  {
   "cell_type": "code",
   "execution_count": 33,
   "metadata": {},
   "outputs": [
    {
     "name": "stderr",
     "output_type": "stream",
     "text": [
      "/usr/local/lib/python2.7/site-packages/sklearn/cross_validation.py:44: DeprecationWarning: This module was deprecated in version 0.18 in favor of the model_selection module into which all the refactored classes and functions are moved. Also note that the interface of the new CV iterators are different from that of this module. This module will be removed in 0.20.\n",
      "  \"This module will be removed in 0.20.\", DeprecationWarning)\n"
     ]
    }
   ],
   "source": [
    "from sklearn.ensemble import RandomForestClassifier\n",
    "from sklearn.cross_validation import ShuffleSplit\n",
    "from sklearn.metrics import roc_auc_score, accuracy_score"
   ]
  },
  {
   "cell_type": "code",
   "execution_count": 30,
   "metadata": {
    "collapsed": true
   },
   "outputs": [],
   "source": [
    "#крокодильчики будут - 1\n",
    "#часы будут - 0\n",
    "X = np.concatenate([clocks_features, crocs_features])\n",
    "Y = np.concatenate([np.zeros(len(clocks_features)),np.ones(len(crocs_features))])"
   ]
  },
  {
   "cell_type": "code",
   "execution_count": 31,
   "metadata": {},
   "outputs": [
    {
     "data": {
      "text/plain": [
       "False"
      ]
     },
     "execution_count": 31,
     "metadata": {},
     "output_type": "execute_result"
    }
   ],
   "source": [
    "#проверим адекватные у нас признаки\n",
    "np.all(X == 0)"
   ]
  },
  {
   "cell_type": "code",
   "execution_count": 34,
   "metadata": {},
   "outputs": [
    {
     "name": "stdout",
     "output_type": "stream",
     "text": [
      "ROC-AUC: 0.917, ACC: 0.820\n",
      "ROC-AUC: 0.943, ACC: 0.873\n",
      "ROC-AUC: 0.894, ACC: 0.843\n",
      "ROC-AUC: 0.937, ACC: 0.857\n",
      "ROC-AUC: 0.933, ACC: 0.863\n"
     ]
    }
   ],
   "source": [
    "#запускаем RF\n",
    "ss = ShuffleSplit(len(X), n_iter=5, test_size=0.3)\n",
    "for train_ids, test_ids in ss:\n",
    "    rf = RandomForestClassifier(n_estimators=50)\n",
    "    rf.fit(X[train_ids], Y[train_ids])\n",
    "    preds = rf.predict(X[test_ids])\n",
    "    probs = rf.predict_proba(X[test_ids])\n",
    "    print 'ROC-AUC: %.3f, ACC: %.3f' % (roc_auc_score(Y[test_ids], probs[:,1]), accuracy_score(Y[test_ids], preds))"
   ]
  },
  {
   "cell_type": "markdown",
   "metadata": {},
   "source": [
    "Получили очень неплохое качество. Человек в среднем ошибается в 5% случаев при классификации изображений из ImageNET. Но стоит учитывать, что наши исходные картинки пришлось растягивать, что испортило качество, думаю, что получилось очень неплохо.\n",
    "\n",
    "Из улучшений:\n",
    "1. Можно пробовать другой алгоритм обучать на признаках, например, градиентный бустинг или логистическую регрессию.\n",
    "2. Пробовать другую архитектуру нейронной сети, например, ResNet.\n",
    "3. Можно поробовать снять признаки после второго полносвязного слоя."
   ]
  },
  {
   "cell_type": "markdown",
   "metadata": {},
   "source": [
    "Надеюсь, что мне удалось передать основной смысл алгоритма и принцип Transfer Learning, а дальше можно пробовать различные улучшения."
   ]
  },
  {
   "cell_type": "markdown",
   "metadata": {},
   "source": [
    "##### Используемые ресурсы:\n",
    "1. http://cs231n.github.io\n",
    "2. https://github.com/esokolov/ml-course-hse\n",
    "3. https://www.tensorflow.org/tutorials/deep_cnn\n",
    "4. https://arxiv.org/pdf/1409.1556.pdf\n",
    "\n",
    "И еще кучу статей, которые попадались в процессе чтения основных ресурсов и поиска информации."
   ]
  },
  {
   "cell_type": "markdown",
   "metadata": {},
   "source": [
    "#### Поле для творчества"
   ]
  },
  {
   "cell_type": "code",
   "execution_count": null,
   "metadata": {
    "collapsed": true
   },
   "outputs": [],
   "source": [
    "#def assign_weights(trainable_variables, weights_list):\n",
    "#    i = 0\n",
    "#    assign_ops = []\n",
    "#    for v in trainable_variables:\n",
    "#        w = weights_list[i]\n",
    "        #if w.ndim > 2:\n",
    "            #w = np.moveaxis(w, [0,1,2,3], [3, 2, 0, 1])\n",
    "#        assign_ops.append(v.assign(w))\n",
    "#        i += 1\n",
    "#    return assign_ops"
   ]
  },
  {
   "cell_type": "code",
   "execution_count": null,
   "metadata": {
    "collapsed": true
   },
   "outputs": [],
   "source": [
    "#tr_vars = features.graph.get_collection('trainable_variables')\n",
    "#ww = vgg_weights['param values']"
   ]
  },
  {
   "cell_type": "code",
   "execution_count": null,
   "metadata": {
    "collapsed": true
   },
   "outputs": [],
   "source": [
    "#tr_vars[0]"
   ]
  },
  {
   "cell_type": "code",
   "execution_count": null,
   "metadata": {
    "collapsed": true
   },
   "outputs": [],
   "source": []
  },
  {
   "cell_type": "code",
   "execution_count": null,
   "metadata": {
    "collapsed": true
   },
   "outputs": [],
   "source": []
  }
 ],
 "metadata": {
  "kernelspec": {
   "display_name": "Python 2",
   "language": "python",
   "name": "python2"
  },
  "language_info": {
   "codemirror_mode": {
    "name": "ipython",
    "version": 2
   },
   "file_extension": ".py",
   "mimetype": "text/x-python",
   "name": "python",
   "nbconvert_exporter": "python",
   "pygments_lexer": "ipython2",
   "version": "2.7.13"
  }
 },
 "nbformat": 4,
 "nbformat_minor": 2
}
